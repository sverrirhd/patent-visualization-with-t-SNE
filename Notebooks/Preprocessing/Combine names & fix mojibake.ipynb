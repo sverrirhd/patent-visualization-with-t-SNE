{
 "cells": [
  {
   "cell_type": "code",
   "execution_count": 1,
   "metadata": {},
   "outputs": [],
   "source": [
    "import pandas as pd\n",
    "import math\n",
    "import numpy as np\n",
    "import matplotlib.pyplot as plt\n",
    "import time"
   ]
  },
  {
   "cell_type": "code",
   "execution_count": 2,
   "metadata": {},
   "outputs": [],
   "source": [
    "assignees = pd.read_csv('../../Data/assignee_list_PatentView.csv')"
   ]
  },
  {
   "cell_type": "code",
   "execution_count": 3,
   "metadata": {},
   "outputs": [
    {
     "name": "stdout",
     "output_type": "stream",
     "text": [
      "number of assignees: 97\n"
     ]
    },
    {
     "data": {
      "text/html": [
       "<div>\n",
       "<style scoped>\n",
       "    .dataframe tbody tr th:only-of-type {\n",
       "        vertical-align: middle;\n",
       "    }\n",
       "\n",
       "    .dataframe tbody tr th {\n",
       "        vertical-align: top;\n",
       "    }\n",
       "\n",
       "    .dataframe thead th {\n",
       "        text-align: right;\n",
       "    }\n",
       "</style>\n",
       "<table border=\"1\" class=\"dataframe\">\n",
       "  <thead>\n",
       "    <tr style=\"text-align: right;\">\n",
       "      <th></th>\n",
       "      <th>Unnamed: 0</th>\n",
       "      <th>assignee_first_name</th>\n",
       "      <th>assignee_id</th>\n",
       "      <th>assignee_key_id</th>\n",
       "      <th>assignee_last_name</th>\n",
       "      <th>assignee_organization</th>\n",
       "      <th>assignee_total_num_inventors</th>\n",
       "      <th>assignee_total_num_patents</th>\n",
       "      <th>location_city</th>\n",
       "      <th>location_country</th>\n",
       "      <th>location_id</th>\n",
       "      <th>location_key_id</th>\n",
       "      <th>location_latitude</th>\n",
       "      <th>location_longitude</th>\n",
       "    </tr>\n",
       "  </thead>\n",
       "  <tbody>\n",
       "    <tr>\n",
       "      <th>0</th>\n",
       "      <td>0</td>\n",
       "      <td>NaN</td>\n",
       "      <td>org_0eMcj81DlE96rtIdXqX9</td>\n",
       "      <td>7499</td>\n",
       "      <td>NaN</td>\n",
       "      <td>Lifeind ehf.</td>\n",
       "      <td>4</td>\n",
       "      <td>2</td>\n",
       "      <td>Reykjavik</td>\n",
       "      <td>IS</td>\n",
       "      <td>64.15|-21.95</td>\n",
       "      <td>34366</td>\n",
       "      <td>64.1500</td>\n",
       "      <td>-21.9500</td>\n",
       "    </tr>\n",
       "    <tr>\n",
       "      <th>1</th>\n",
       "      <td>1</td>\n",
       "      <td>NaN</td>\n",
       "      <td>org_0LzwWua1ah5ocjHw7dAF</td>\n",
       "      <td>9166</td>\n",
       "      <td>NaN</td>\n",
       "      <td>MAREL ICELAND EHF</td>\n",
       "      <td>10</td>\n",
       "      <td>7</td>\n",
       "      <td>Gardabaer</td>\n",
       "      <td>IS</td>\n",
       "      <td>64.0788|-21.8909</td>\n",
       "      <td>22608</td>\n",
       "      <td>64.0788</td>\n",
       "      <td>-21.8909</td>\n",
       "    </tr>\n",
       "    <tr>\n",
       "      <th>2</th>\n",
       "      <td>2</td>\n",
       "      <td>NaN</td>\n",
       "      <td>org_1BXNDdJbguuZcxLj8Etb</td>\n",
       "      <td>13823</td>\n",
       "      <td>NaN</td>\n",
       "      <td>3X TECHNOLOGY</td>\n",
       "      <td>2</td>\n",
       "      <td>1</td>\n",
       "      <td>Isafjordur</td>\n",
       "      <td>IS</td>\n",
       "      <td>66.0738|-23.1417</td>\n",
       "      <td>59329</td>\n",
       "      <td>66.0738</td>\n",
       "      <td>-23.1417</td>\n",
       "    </tr>\n",
       "    <tr>\n",
       "      <th>3</th>\n",
       "      <td>3</td>\n",
       "      <td>NaN</td>\n",
       "      <td>org_231GW9xFdFlMqRFRXL2d</td>\n",
       "      <td>19600</td>\n",
       "      <td>NaN</td>\n",
       "      <td>Lipomedica ehf.</td>\n",
       "      <td>2</td>\n",
       "      <td>1</td>\n",
       "      <td>Reykjavik</td>\n",
       "      <td>IS</td>\n",
       "      <td>64.15|-21.95</td>\n",
       "      <td>34366</td>\n",
       "      <td>64.1500</td>\n",
       "      <td>-21.9500</td>\n",
       "    </tr>\n",
       "    <tr>\n",
       "      <th>4</th>\n",
       "      <td>4</td>\n",
       "      <td>NaN</td>\n",
       "      <td>org_2aUnpUxK2pzGqt5h1c5W</td>\n",
       "      <td>20571</td>\n",
       "      <td>NaN</td>\n",
       "      <td>LYSI HF</td>\n",
       "      <td>3</td>\n",
       "      <td>1</td>\n",
       "      <td>Reykjavik</td>\n",
       "      <td>IS</td>\n",
       "      <td>64.15|-21.95</td>\n",
       "      <td>34366</td>\n",
       "      <td>64.1500</td>\n",
       "      <td>-21.9500</td>\n",
       "    </tr>\n",
       "  </tbody>\n",
       "</table>\n",
       "</div>"
      ],
      "text/plain": [
       "   Unnamed: 0 assignee_first_name               assignee_id  assignee_key_id  \\\n",
       "0           0                 NaN  org_0eMcj81DlE96rtIdXqX9             7499   \n",
       "1           1                 NaN  org_0LzwWua1ah5ocjHw7dAF             9166   \n",
       "2           2                 NaN  org_1BXNDdJbguuZcxLj8Etb            13823   \n",
       "3           3                 NaN  org_231GW9xFdFlMqRFRXL2d            19600   \n",
       "4           4                 NaN  org_2aUnpUxK2pzGqt5h1c5W            20571   \n",
       "\n",
       "  assignee_last_name assignee_organization  assignee_total_num_inventors  \\\n",
       "0                NaN          Lifeind ehf.                             4   \n",
       "1                NaN     MAREL ICELAND EHF                            10   \n",
       "2                NaN         3X TECHNOLOGY                             2   \n",
       "3                NaN       Lipomedica ehf.                             2   \n",
       "4                NaN               LYSI HF                             3   \n",
       "\n",
       "   assignee_total_num_patents location_city location_country  \\\n",
       "0                           2     Reykjavik               IS   \n",
       "1                           7     Gardabaer               IS   \n",
       "2                           1    Isafjordur               IS   \n",
       "3                           1     Reykjavik               IS   \n",
       "4                           1     Reykjavik               IS   \n",
       "\n",
       "        location_id  location_key_id  location_latitude  location_longitude  \n",
       "0      64.15|-21.95            34366            64.1500            -21.9500  \n",
       "1  64.0788|-21.8909            22608            64.0788            -21.8909  \n",
       "2  66.0738|-23.1417            59329            66.0738            -23.1417  \n",
       "3      64.15|-21.95            34366            64.1500            -21.9500  \n",
       "4      64.15|-21.95            34366            64.1500            -21.9500  "
      ]
     },
     "execution_count": 3,
     "metadata": {},
     "output_type": "execute_result"
    }
   ],
   "source": [
    "print('number of assignees:',len(assignees))\n",
    "assignees.head()"
   ]
  },
  {
   "cell_type": "code",
   "execution_count": 4,
   "metadata": {},
   "outputs": [],
   "source": [
    "assignees = assignees[['assignee_id','assignee_organization','assignee_first_name','assignee_last_name']]"
   ]
  },
  {
   "cell_type": "code",
   "execution_count": 5,
   "metadata": {},
   "outputs": [],
   "source": [
    "def is_ascii(s):\n",
    "    if type(s) == type(1.0):\n",
    "        return False\n",
    "    return all(ord(c) < 128 for c in s)"
   ]
  },
  {
   "cell_type": "code",
   "execution_count": 6,
   "metadata": {},
   "outputs": [
    {
     "data": {
      "text/plain": [
       "False"
      ]
     },
     "execution_count": 6,
     "metadata": {},
     "output_type": "execute_result"
    }
   ],
   "source": [
    "is_ascii('HÃ¡skÃ³li Ãslands')"
   ]
  },
  {
   "cell_type": "code",
   "execution_count": 8,
   "metadata": {},
   "outputs": [],
   "source": [
    "# fixed_assignees.head()"
   ]
  },
  {
   "cell_type": "code",
   "execution_count": 9,
   "metadata": {},
   "outputs": [],
   "source": [
    "def fix_mojibake(x):\n",
    "    if is_ascii(x):\n",
    "        return x\n",
    "    if type(x) != type('str'):\n",
    "        return x\n",
    "    try:\n",
    "        fixed = x.encode('cp1252').decode('utf-8')\n",
    "#         print(fixed)\n",
    "    except (UnicodeEncodeError,UnicodeDecodeError) as err:\n",
    "        encodings = ['ascii','big5','big5hkscs','cp037','cp424','cp437',\n",
    "                     'cp500','cp737','cp775','cp850','cp852','cp855',\n",
    "                     'cp856','cp857','cp860','cp861','cp862','cp863',\n",
    "                     'cp864','cp865','cp866','cp869','cp874','cp875',\n",
    "                     'cp932','cp949','cp950','cp1006','cp1026','cp1140',\n",
    "                     'cp1250','cp1251','cp1252','cp1253','cp1254','cp1255',\n",
    "                     'cp1256','cp1257','cp1258','euc_jp','euc_jis_2004','euc_jisx0213',\n",
    "                     'euc_kr','gb2312','gbk','gb18030','hz','iso2022_jp','iso2022_jp_1',\n",
    "                     'iso2022_jp_2','iso2022_jp_2004','iso2022_jp_3','iso2022_jp_ext','iso2022_kr',\n",
    "                     'latin_1','iso8859_2','iso8859_3','iso8859_4','iso8859_5','iso8859_6','iso8859_7',\n",
    "                     'iso8859_8','iso8859_9','iso8859_10','iso8859_13','iso8859_14',\n",
    "                     'iso8859_15','johab','koi8_r','koi8_u','mac_cyrillic',\n",
    "                     'mac_greek','mac_iceland','mac_latin2','mac_roman','mac_turkish','ptcp154',\n",
    "                     'shift_jis','shift_jis_2004','shift_jisx0213','utf_16','utf_16_be','utf_16_le',\n",
    "                     'utf_7','utf_8']\n",
    "        for enc in encodings:\n",
    "            try:\n",
    "#                 print(enc)\n",
    "                encoded = x.encode(enc)\n",
    "#                 print('encoded:',encoded)\n",
    "                decoded = encoded.decode('utf-8')\n",
    "#                 print(decoded)\n",
    "                return decoded\n",
    "            except UnicodeEncodeError as err2:\n",
    "                pass\n",
    "            except UnicodeDecodeError as err3:\n",
    "                pass\n",
    "                  \n",
    "            \n",
    "        return \n",
    "        \n",
    "    return fixed"
   ]
  },
  {
   "cell_type": "code",
   "execution_count": 10,
   "metadata": {},
   "outputs": [
    {
     "name": "stdout",
     "output_type": "stream",
     "text": [
      "Háskóli Íslands\n",
      "Babcock & Wilcox Vølund A/S\n"
     ]
    }
   ],
   "source": [
    "print(fix_mojibake('HÃ¡skÃ³li Ãslands'))\n",
    "print(fix_mojibake('Babcock & Wilcox VÃ¸lund A/S'))"
   ]
  },
  {
   "cell_type": "code",
   "execution_count": 11,
   "metadata": {},
   "outputs": [],
   "source": [
    "baked_index = assignees[[not is_ascii(x) for x in assignees['assignee_organization']]].index"
   ]
  },
  {
   "cell_type": "code",
   "execution_count": 12,
   "metadata": {},
   "outputs": [],
   "source": [
    "fixed_assignees = assignees.copy(deep=True)\n",
    "for col in fixed_assignees.columns[1:]:\n",
    "    fixed_assignees[col] = fixed_assignees[col].apply((lambda x: fix_mojibake(x)))"
   ]
  },
  {
   "cell_type": "code",
   "execution_count": 13,
   "metadata": {},
   "outputs": [
    {
     "data": {
      "text/html": [
       "<div>\n",
       "<style scoped>\n",
       "    .dataframe tbody tr th:only-of-type {\n",
       "        vertical-align: middle;\n",
       "    }\n",
       "\n",
       "    .dataframe tbody tr th {\n",
       "        vertical-align: top;\n",
       "    }\n",
       "\n",
       "    .dataframe thead th {\n",
       "        text-align: right;\n",
       "    }\n",
       "</style>\n",
       "<table border=\"1\" class=\"dataframe\">\n",
       "  <thead>\n",
       "    <tr style=\"text-align: right;\">\n",
       "      <th></th>\n",
       "      <th>assignee_id</th>\n",
       "      <th>assignee_organization</th>\n",
       "      <th>assignee_first_name</th>\n",
       "      <th>assignee_last_name</th>\n",
       "    </tr>\n",
       "  </thead>\n",
       "  <tbody>\n",
       "    <tr>\n",
       "      <th>18</th>\n",
       "      <td>org_9IpHrahEmm5LrXuoEBGK</td>\n",
       "      <td>\u001b$(D*S\u001b(Bssur hf</td>\n",
       "      <td>NaN</td>\n",
       "      <td>NaN</td>\n",
       "    </tr>\n",
       "    <tr>\n",
       "      <th>23</th>\n",
       "      <td>org_ASERyuqDgGkPmRFfVvju</td>\n",
       "      <td>Ã–ssur hf</td>\n",
       "      <td>NaN</td>\n",
       "      <td>NaN</td>\n",
       "    </tr>\n",
       "    <tr>\n",
       "      <th>45</th>\n",
       "      <td>org_J71SYKWrHHqVgStRptcy</td>\n",
       "      <td>HÃ¡skÃ³linn Ã­ Reykjavik</td>\n",
       "      <td>NaN</td>\n",
       "      <td>NaN</td>\n",
       "    </tr>\n",
       "    <tr>\n",
       "      <th>47</th>\n",
       "      <td>org_jHaSvacRgUK6QE6565MN</td>\n",
       "      <td>\u001b$(D*S\u001b(Bssur Iceland ehf</td>\n",
       "      <td>NaN</td>\n",
       "      <td>NaN</td>\n",
       "    </tr>\n",
       "    <tr>\n",
       "      <th>65</th>\n",
       "      <td>org_qEM3sRd59NoakUuzdtZt</td>\n",
       "      <td>H+AMMBkgDCAKE-sk+AMMBkgDCALM-li +AMMBkgDCAI0-s...</td>\n",
       "      <td>NaN</td>\n",
       "      <td>NaN</td>\n",
       "    </tr>\n",
       "  </tbody>\n",
       "</table>\n",
       "</div>"
      ],
      "text/plain": [
       "                 assignee_id  \\\n",
       "18  org_9IpHrahEmm5LrXuoEBGK   \n",
       "23  org_ASERyuqDgGkPmRFfVvju   \n",
       "45  org_J71SYKWrHHqVgStRptcy   \n",
       "47  org_jHaSvacRgUK6QE6565MN   \n",
       "65  org_qEM3sRd59NoakUuzdtZt   \n",
       "\n",
       "                                assignee_organization assignee_first_name  \\\n",
       "18                                   \u001b$(D*S\u001b(Bssur hf                 NaN   \n",
       "23                                          Ã–ssur hf                 NaN   \n",
       "45                           HÃ¡skÃ³linn Ã­ Reykjavik                 NaN   \n",
       "47                          \u001b$(D*S\u001b(Bssur Iceland ehf                 NaN   \n",
       "65  H+AMMBkgDCAKE-sk+AMMBkgDCALM-li +AMMBkgDCAI0-s...                 NaN   \n",
       "\n",
       "   assignee_last_name  \n",
       "18                NaN  \n",
       "23                NaN  \n",
       "45                NaN  \n",
       "47                NaN  \n",
       "65                NaN  "
      ]
     },
     "execution_count": 13,
     "metadata": {},
     "output_type": "execute_result"
    }
   ],
   "source": [
    "fixed_assignees.iloc[baked_index].head()"
   ]
  },
  {
   "cell_type": "code",
   "execution_count": 14,
   "metadata": {},
   "outputs": [],
   "source": [
    "fixed_assignees_companies = fixed_assignees[[type(x) != float for x in fixed_assignees.assignee_organization]]\n",
    "fixed_assignees_individuals = fixed_assignees[[type(x) != float for x in fixed_assignees.assignee_first_name]]\n"
   ]
  },
  {
   "cell_type": "code",
   "execution_count": 15,
   "metadata": {},
   "outputs": [
    {
     "name": "stdout",
     "output_type": "stream",
     "text": [
      "90\n",
      "7\n"
     ]
    }
   ],
   "source": [
    "print(len(fixed_assignees_companies))\n",
    "print(len(fixed_assignees_individuals))"
   ]
  },
  {
   "cell_type": "code",
   "execution_count": 16,
   "metadata": {},
   "outputs": [
    {
     "data": {
      "text/plain": [
       "ehf                                22\n",
       "ehf.                               19\n",
       "hf                                 19\n",
       "hf.                                 7\n",
       "iceland                             6\n",
       "marel                               5\n",
       "ltd.                                5\n",
       "university                          3\n",
       "islandi                             3\n",
       "ossur                               3\n",
       "actavis                             3\n",
       "style                               3\n",
       "group                               3\n",
       "pharmaceuticals                     2\n",
       "a                                   2\n",
       "\u001b$(d*s\u001b(bssur                       2\n",
       "food                                2\n",
       "flaga                               2\n",
       "valka                               2\n",
       "reykjavik                           2\n",
       "medical                             2\n",
       "prokaria                            2\n",
       "nox                                 2\n",
       "ptc                                 2\n",
       "decode                              2\n",
       "system                              2\n",
       "hananja                             2\n",
       "of                                  2\n",
       "and                                 2\n",
       "medcare                             2\n",
       "                                   ..\n",
       "lifeind                             1\n",
       "liftaekni                           1\n",
       "magnusson                           1\n",
       "fiskeldiskerfi                      1\n",
       "hvalnum                             1\n",
       "blaa                                1\n",
       "maref                               1\n",
       "petro-model                         1\n",
       "veltak,                             1\n",
       "holdings                            1\n",
       "star                                1\n",
       "enf.                                1\n",
       "h+ammbkgdcake-sk+ammbkgdcalm-li     1\n",
       "pols                                1\n",
       "jf936                               1\n",
       "kerecis                             1\n",
       "orf                                 1\n",
       "hã¡skã³linn                         1\n",
       "ortho                               1\n",
       "oddi                                1\n",
       "sea                                 1\n",
       "lipomedica                          1\n",
       "thorsbrunnur                        1\n",
       "issur                               1\n",
       "islands                             1\n",
       "lipid                               1\n",
       "water                               1\n",
       "engineering                         1\n",
       "nordur                              1\n",
       "marcel                              1\n",
       "Length: 128, dtype: int64"
      ]
     },
     "execution_count": 16,
     "metadata": {},
     "output_type": "execute_result"
    }
   ],
   "source": [
    "# Finna öll fyrirtækja keywords, sem eru hafa ekki merkingu eins og \"hf\" eða \"ehf\" á íslensku\n",
    "all_words_from_names = np.hstack([x.lower().split(\" \") for x in fixed_assignees_companies['assignee_organization']])\n",
    "\n",
    "# Orðin sem koma oftast fyrir í nöfnum og hversu oft þau koma fyrir\n",
    "\n",
    "legal_words_eq ={\n",
    "    'ab':'aktiebolag',\n",
    "    'oy':'osakeyhtiö',\n",
    "    'a/s':'aktieselskab',\n",
    "    'as':'aktieselskab',\n",
    "    'a.s.':'aktieselskab',\n",
    "    'aps':'anpartsselskab',\n",
    "    'ltd.':'limited',\n",
    "    'ltd':'limited',\n",
    "    'asa':'allmennaksjeselskap',\n",
    "    'oyj':'julkinen osakeyhtiö',\n",
    "    'co.':'company',\n",
    "    'inc.':'incorporated',\n",
    "    'hb':'handelsbolag',\n",
    "    'kb':'kommanditbolag',\n",
    "    'ag':'aktiengesellschaft',\n",
    "    '(publ)':'public',\n",
    "    'hf':'hlutafélag',\n",
    "    'ehf':'eignahlutafélag'\n",
    "}\n",
    "legal_words=['ab','aktiebolag',\n",
    "    'oy','osakeyhtiö',\n",
    "    'a/s','aktieselskab',\n",
    "    'as','aktieselskab',\n",
    "    'a.s.','aktieselskab',\n",
    "    'aps','anpartsselskab',\n",
    "    'ltd.','limited',\n",
    "    'ltd','limited',\n",
    "    'asa','allmennaksjeselskap',\n",
    "    'oyj','julkinen osakeyhtiö',\n",
    "    'co.','company',\n",
    "    'inc.','incorporated',\n",
    "    'hb','handelsbolag',\n",
    "    'kb','kommanditbolag',\n",
    "    'ag','aktiengesellschaft',\n",
    "    '(publ)','public',\n",
    "    'hf','hlutafélag',\n",
    "    'h.f','H. F'\n",
    "    'ehf','eignahlutafélag']\n",
    "common_words = pd.Series(all_words_from_names).value_counts()\n",
    "common_words"
   ]
  },
  {
   "cell_type": "code",
   "execution_count": 17,
   "metadata": {},
   "outputs": [
    {
     "data": {
      "image/png": "[encoded data removed]",
      "text/plain": [
       "<Figure size 432x288 with 1 Axes>"
      ]
     },
     "metadata": {
      "needs_background": "light"
     },
     "output_type": "display_data"
    }
   ],
   "source": [
    "\n",
    "plt.plot(common_words.values)\n",
    "plt.vlines(52,0,40000)\n",
    "plt.title('asdf')\n",
    "plt.yscale('log')\n",
    "plt.show()"
   ]
  },
  {
   "cell_type": "markdown",
   "metadata": {},
   "source": [
    "### Staðla nöfnin til pörunar\n",
    "- Laga mojibake (þ.e. \"HÃ¡skÃ³li Ãslands\" -> Háskóli Íslands)\n",
    "- Staðla leturgerð: Allt í lowercase \n",
    "- Staðla greinamerki (kommur, semikommur, etc.): Prófa að sleppa og hafa bil í staðin\n",
    "- Staðla whitespaces (Allar runur af bilum verða eitt bil)\n",
    "- Staðla alla broddaða stafi (Breyta þeim í samsvarandi ASCII stafi)\n",
    "- Staðla orð með löglegan tilgang frá byrjun eða enda orða  (sleppa orðum eins go \"hf\"/\"ehf\", skipta út öllum \"Co.\" fyrir \"Company\") notandi lista af þeim orðum\n",
    "\n"
   ]
  },
  {
   "cell_type": "code",
   "execution_count": 18,
   "metadata": {},
   "outputs": [
    {
     "ename": "NameError",
     "evalue": "name 'std_comp_names' is not defined",
     "output_type": "error",
     "traceback": [
      "\u001b[1;31m---------------------------------------------------------------------------\u001b[0m",
      "\u001b[1;31mNameError\u001b[0m                                 Traceback (most recent call last)",
      "\u001b[1;32m<ipython-input-18-80dd3e885760>\u001b[0m in \u001b[0;36m<module>\u001b[1;34m\u001b[0m\n\u001b[1;32m----> 1\u001b[1;33m \u001b[0maccented_letts\u001b[0m \u001b[1;33m=\u001b[0m \u001b[0mnp\u001b[0m\u001b[1;33m.\u001b[0m\u001b[0munique\u001b[0m\u001b[1;33m(\u001b[0m\u001b[0mnp\u001b[0m\u001b[1;33m.\u001b[0m\u001b[0mhstack\u001b[0m\u001b[1;33m(\u001b[0m\u001b[1;33m[\u001b[0m\u001b[1;33m[\u001b[0m\u001b[0my\u001b[0m \u001b[1;32mfor\u001b[0m \u001b[0my\u001b[0m \u001b[1;32min\u001b[0m \u001b[0mx\u001b[0m \u001b[1;32mif\u001b[0m \u001b[1;32mnot\u001b[0m \u001b[0mis_ascii\u001b[0m\u001b[1;33m(\u001b[0m\u001b[0my\u001b[0m\u001b[1;33m)\u001b[0m\u001b[1;33m]\u001b[0m \u001b[1;32mfor\u001b[0m \u001b[0mx\u001b[0m \u001b[1;32min\u001b[0m \u001b[0mstd_comp_names\u001b[0m\u001b[1;33m.\u001b[0m\u001b[0massignee_organization\u001b[0m \u001b[1;32mif\u001b[0m \u001b[1;32mnot\u001b[0m \u001b[0mis_ascii\u001b[0m\u001b[1;33m(\u001b[0m\u001b[0mx\u001b[0m\u001b[1;33m)\u001b[0m\u001b[1;33m]\u001b[0m\u001b[1;33m)\u001b[0m\u001b[1;33m)\u001b[0m\u001b[1;33m\u001b[0m\u001b[1;33m\u001b[0m\u001b[0m\n\u001b[0m\u001b[0;32m      2\u001b[0m \u001b[0maccented_letts\u001b[0m\u001b[1;33m\u001b[0m\u001b[1;33m\u001b[0m\u001b[0m\n",
      "\u001b[1;31mNameError\u001b[0m: name 'std_comp_names' is not defined"
     ]
    }
   ],
   "source": [
    "accented_letts = np.unique(np.hstack([[y for y in x if not is_ascii(y)] for x in std_comp_names.assignee_organization if not is_ascii(x)]))\n",
    "accented_letts"
   ]
  },
  {
   "cell_type": "code",
   "execution_count": null,
   "metadata": {},
   "outputs": [],
   "source": [
    "# fixed_assignees.assignee_organization"
   ]
  },
  {
   "cell_type": "code",
   "execution_count": null,
   "metadata": {},
   "outputs": [],
   "source": [
    "'marel'.endswith('arel')"
   ]
  },
  {
   "cell_type": "code",
   "execution_count": null,
   "metadata": {},
   "outputs": [],
   "source": [
    "from nltk.tokenize import RegexpTokenizer\n",
    "\n",
    "def standardize_legal_terms(string):\n",
    "    new_string = string\n",
    "    for lword in legal_words:\n",
    "        if (string.startswith(lword+' ')) or (string.startswith(lword+'. ')):\n",
    "            new_string = string.replace(lword+' ','')\n",
    "        if (string.endswith(' '+lword)) or (string.endswith(' '+lword+'.')):\n",
    "            new_string = string.replace(' '+lword,'')\n",
    "    return new_string\n",
    "\n",
    "def standardize_punctuation(string):\n",
    "    return ''.join([x+' ' for x in RegexpTokenizer(r'\\w+').tokenize(string)])[:-1]\n",
    "letter_replacements = {'á':'a','â':'a','ä':'a','å':'a',\n",
    "                       'æ':'ae','é':'e','ë':'e','í':'i',\n",
    "                       'ð':'d','ó':'o','ô':'o','õ':'o',\n",
    "                       'ö':'o','ø':'o','ü':'u','ÿ':'y',\n",
    "                       'ċ':'c','ē':'e'}\n",
    "def replace_accents(string):\n",
    "    if not is_ascii(string):\n",
    "        new_string = ''\n",
    "        for n,letter in enumerate(string):\n",
    "            if not is_ascii(letter):\n",
    "                new_string += letter_replacements[string[n]]\n",
    "            else:\n",
    "                new_string += letter\n",
    "        return new_string\n",
    "    else:\n",
    "        return string"
   ]
  },
  {
   "cell_type": "code",
   "execution_count": 19,
   "metadata": {},
   "outputs": [
    {
     "data": {
      "text/html": [
       "<div>\n",
       "<style scoped>\n",
       "    .dataframe tbody tr th:only-of-type {\n",
       "        vertical-align: middle;\n",
       "    }\n",
       "\n",
       "    .dataframe tbody tr th {\n",
       "        vertical-align: top;\n",
       "    }\n",
       "\n",
       "    .dataframe thead th {\n",
       "        text-align: right;\n",
       "    }\n",
       "</style>\n",
       "<table border=\"1\" class=\"dataframe\">\n",
       "  <thead>\n",
       "    <tr style=\"text-align: right;\">\n",
       "      <th></th>\n",
       "      <th>assignee_id</th>\n",
       "      <th>assignee_organization</th>\n",
       "      <th>assignee_first_name</th>\n",
       "      <th>assignee_last_name</th>\n",
       "    </tr>\n",
       "  </thead>\n",
       "  <tbody>\n",
       "    <tr>\n",
       "      <th>1</th>\n",
       "      <td>org_0LzwWua1ah5ocjHw7dAF</td>\n",
       "      <td>MAREL ICELAND EHF</td>\n",
       "      <td>NaN</td>\n",
       "      <td>NaN</td>\n",
       "    </tr>\n",
       "    <tr>\n",
       "      <th>7</th>\n",
       "      <td>org_46g182hVsEVRKsC10nbG</td>\n",
       "      <td>Marel Food System HF.</td>\n",
       "      <td>NaN</td>\n",
       "      <td>NaN</td>\n",
       "    </tr>\n",
       "    <tr>\n",
       "      <th>14</th>\n",
       "      <td>org_8RR1qfsdklVucS5hDNYp</td>\n",
       "      <td>H. F. Marel Ltd.</td>\n",
       "      <td>NaN</td>\n",
       "      <td>NaN</td>\n",
       "    </tr>\n",
       "    <tr>\n",
       "      <th>25</th>\n",
       "      <td>org_bHcaK6aqXHjMpVHyuDOp</td>\n",
       "      <td>Marel Food Systems HF</td>\n",
       "      <td>NaN</td>\n",
       "      <td>NaN</td>\n",
       "    </tr>\n",
       "    <tr>\n",
       "      <th>56</th>\n",
       "      <td>org_nu7vuTaygxFBSFwN18Fc</td>\n",
       "      <td>Marel HF</td>\n",
       "      <td>NaN</td>\n",
       "      <td>NaN</td>\n",
       "    </tr>\n",
       "  </tbody>\n",
       "</table>\n",
       "</div>"
      ],
      "text/plain": [
       "                 assignee_id  assignee_organization assignee_first_name  \\\n",
       "1   org_0LzwWua1ah5ocjHw7dAF      MAREL ICELAND EHF                 NaN   \n",
       "7   org_46g182hVsEVRKsC10nbG  Marel Food System HF.                 NaN   \n",
       "14  org_8RR1qfsdklVucS5hDNYp       H. F. Marel Ltd.                 NaN   \n",
       "25  org_bHcaK6aqXHjMpVHyuDOp  Marel Food Systems HF                 NaN   \n",
       "56  org_nu7vuTaygxFBSFwN18Fc               Marel HF                 NaN   \n",
       "\n",
       "   assignee_last_name  \n",
       "1                 NaN  \n",
       "7                 NaN  \n",
       "14                NaN  \n",
       "25                NaN  \n",
       "56                NaN  "
      ]
     },
     "execution_count": 19,
     "metadata": {},
     "output_type": "execute_result"
    }
   ],
   "source": [
    "fixed_assignees_companies[['marel' in x for x in fixed_assignees_companies.assignee_organization.str.lower()]]\n",
    "# fixed_assignees_companies[['ossur' in x for x in fixed_assignees_companies.assignee_organization.str.lower()]]\n",
    "# fixed_assignees_companies[['decode' in x for x in fixed_assignees_companies.assignee_organization.str.lower()]]\n"
   ]
  },
  {
   "cell_type": "code",
   "execution_count": 20,
   "metadata": {},
   "outputs": [
    {
     "ename": "NameError",
     "evalue": "name 'standardize_legal_terms' is not defined",
     "output_type": "error",
     "traceback": [
      "\u001b[1;31m---------------------------------------------------------------------------\u001b[0m",
      "\u001b[1;31mNameError\u001b[0m                                 Traceback (most recent call last)",
      "\u001b[1;32m<ipython-input-20-8d95fac6b37d>\u001b[0m in \u001b[0;36m<module>\u001b[1;34m\u001b[0m\n\u001b[0;32m      4\u001b[0m \u001b[0mstd_comp_names\u001b[0m\u001b[1;33m.\u001b[0m\u001b[0massignee_organization\u001b[0m \u001b[1;33m=\u001b[0m \u001b[0mstd_comp_names\u001b[0m\u001b[1;33m.\u001b[0m\u001b[0massignee_organization\u001b[0m\u001b[1;33m.\u001b[0m\u001b[0mstr\u001b[0m\u001b[1;33m.\u001b[0m\u001b[0mlower\u001b[0m\u001b[1;33m(\u001b[0m\u001b[1;33m)\u001b[0m\u001b[1;33m\u001b[0m\u001b[1;33m\u001b[0m\u001b[0m\n\u001b[0;32m      5\u001b[0m \u001b[1;31m# staðla legal-terms\u001b[0m\u001b[1;33m\u001b[0m\u001b[1;33m\u001b[0m\u001b[1;33m\u001b[0m\u001b[0m\n\u001b[1;32m----> 6\u001b[1;33m \u001b[0mstd_comp_names\u001b[0m\u001b[1;33m.\u001b[0m\u001b[0massignee_organization\u001b[0m \u001b[1;33m=\u001b[0m \u001b[0mstd_comp_names\u001b[0m\u001b[1;33m.\u001b[0m\u001b[0massignee_organization\u001b[0m\u001b[1;33m.\u001b[0m\u001b[0mapply\u001b[0m\u001b[1;33m(\u001b[0m\u001b[1;32mlambda\u001b[0m \u001b[0mx\u001b[0m\u001b[1;33m:\u001b[0m \u001b[0mstandardize_legal_terms\u001b[0m\u001b[1;33m(\u001b[0m\u001b[0mx\u001b[0m\u001b[1;33m)\u001b[0m\u001b[1;33m)\u001b[0m\u001b[1;33m\u001b[0m\u001b[1;33m\u001b[0m\u001b[0m\n\u001b[0m\u001b[0;32m      7\u001b[0m \u001b[1;31m# sleppa greinamerkjum og staðla whitespaces\u001b[0m\u001b[1;33m\u001b[0m\u001b[1;33m\u001b[0m\u001b[1;33m\u001b[0m\u001b[0m\n\u001b[0;32m      8\u001b[0m \u001b[0mstd_comp_names\u001b[0m\u001b[1;33m.\u001b[0m\u001b[0massignee_organization\u001b[0m \u001b[1;33m=\u001b[0m \u001b[0mstd_comp_names\u001b[0m\u001b[1;33m.\u001b[0m\u001b[0massignee_organization\u001b[0m\u001b[1;33m.\u001b[0m\u001b[0mapply\u001b[0m\u001b[1;33m(\u001b[0m\u001b[1;32mlambda\u001b[0m \u001b[0mx\u001b[0m\u001b[1;33m:\u001b[0m \u001b[0mstandardize_punctuation\u001b[0m\u001b[1;33m(\u001b[0m\u001b[0mx\u001b[0m\u001b[1;33m)\u001b[0m\u001b[1;33m)\u001b[0m\u001b[1;33m\u001b[0m\u001b[1;33m\u001b[0m\u001b[0m\n",
      "\u001b[1;32m~\\Anaconda3\\lib\\site-packages\\pandas\\core\\series.py\u001b[0m in \u001b[0;36mapply\u001b[1;34m(self, func, convert_dtype, args, **kwds)\u001b[0m\n\u001b[0;32m   3192\u001b[0m             \u001b[1;32melse\u001b[0m\u001b[1;33m:\u001b[0m\u001b[1;33m\u001b[0m\u001b[1;33m\u001b[0m\u001b[0m\n\u001b[0;32m   3193\u001b[0m                 \u001b[0mvalues\u001b[0m \u001b[1;33m=\u001b[0m \u001b[0mself\u001b[0m\u001b[1;33m.\u001b[0m\u001b[0mastype\u001b[0m\u001b[1;33m(\u001b[0m\u001b[0mobject\u001b[0m\u001b[1;33m)\u001b[0m\u001b[1;33m.\u001b[0m\u001b[0mvalues\u001b[0m\u001b[1;33m\u001b[0m\u001b[1;33m\u001b[0m\u001b[0m\n\u001b[1;32m-> 3194\u001b[1;33m                 \u001b[0mmapped\u001b[0m \u001b[1;33m=\u001b[0m \u001b[0mlib\u001b[0m\u001b[1;33m.\u001b[0m\u001b[0mmap_infer\u001b[0m\u001b[1;33m(\u001b[0m\u001b[0mvalues\u001b[0m\u001b[1;33m,\u001b[0m \u001b[0mf\u001b[0m\u001b[1;33m,\u001b[0m \u001b[0mconvert\u001b[0m\u001b[1;33m=\u001b[0m\u001b[0mconvert_dtype\u001b[0m\u001b[1;33m)\u001b[0m\u001b[1;33m\u001b[0m\u001b[1;33m\u001b[0m\u001b[0m\n\u001b[0m\u001b[0;32m   3195\u001b[0m \u001b[1;33m\u001b[0m\u001b[0m\n\u001b[0;32m   3196\u001b[0m         \u001b[1;32mif\u001b[0m \u001b[0mlen\u001b[0m\u001b[1;33m(\u001b[0m\u001b[0mmapped\u001b[0m\u001b[1;33m)\u001b[0m \u001b[1;32mand\u001b[0m \u001b[0misinstance\u001b[0m\u001b[1;33m(\u001b[0m\u001b[0mmapped\u001b[0m\u001b[1;33m[\u001b[0m\u001b[1;36m0\u001b[0m\u001b[1;33m]\u001b[0m\u001b[1;33m,\u001b[0m \u001b[0mSeries\u001b[0m\u001b[1;33m)\u001b[0m\u001b[1;33m:\u001b[0m\u001b[1;33m\u001b[0m\u001b[1;33m\u001b[0m\u001b[0m\n",
      "\u001b[1;32mpandas/_libs/src\\inference.pyx\u001b[0m in \u001b[0;36mpandas._libs.lib.map_infer\u001b[1;34m()\u001b[0m\n",
      "\u001b[1;32m<ipython-input-20-8d95fac6b37d>\u001b[0m in \u001b[0;36m<lambda>\u001b[1;34m(x)\u001b[0m\n\u001b[0;32m      4\u001b[0m \u001b[0mstd_comp_names\u001b[0m\u001b[1;33m.\u001b[0m\u001b[0massignee_organization\u001b[0m \u001b[1;33m=\u001b[0m \u001b[0mstd_comp_names\u001b[0m\u001b[1;33m.\u001b[0m\u001b[0massignee_organization\u001b[0m\u001b[1;33m.\u001b[0m\u001b[0mstr\u001b[0m\u001b[1;33m.\u001b[0m\u001b[0mlower\u001b[0m\u001b[1;33m(\u001b[0m\u001b[1;33m)\u001b[0m\u001b[1;33m\u001b[0m\u001b[1;33m\u001b[0m\u001b[0m\n\u001b[0;32m      5\u001b[0m \u001b[1;31m# staðla legal-terms\u001b[0m\u001b[1;33m\u001b[0m\u001b[1;33m\u001b[0m\u001b[1;33m\u001b[0m\u001b[0m\n\u001b[1;32m----> 6\u001b[1;33m \u001b[0mstd_comp_names\u001b[0m\u001b[1;33m.\u001b[0m\u001b[0massignee_organization\u001b[0m \u001b[1;33m=\u001b[0m \u001b[0mstd_comp_names\u001b[0m\u001b[1;33m.\u001b[0m\u001b[0massignee_organization\u001b[0m\u001b[1;33m.\u001b[0m\u001b[0mapply\u001b[0m\u001b[1;33m(\u001b[0m\u001b[1;32mlambda\u001b[0m \u001b[0mx\u001b[0m\u001b[1;33m:\u001b[0m \u001b[0mstandardize_legal_terms\u001b[0m\u001b[1;33m(\u001b[0m\u001b[0mx\u001b[0m\u001b[1;33m)\u001b[0m\u001b[1;33m)\u001b[0m\u001b[1;33m\u001b[0m\u001b[1;33m\u001b[0m\u001b[0m\n\u001b[0m\u001b[0;32m      7\u001b[0m \u001b[1;31m# sleppa greinamerkjum og staðla whitespaces\u001b[0m\u001b[1;33m\u001b[0m\u001b[1;33m\u001b[0m\u001b[1;33m\u001b[0m\u001b[0m\n\u001b[0;32m      8\u001b[0m \u001b[0mstd_comp_names\u001b[0m\u001b[1;33m.\u001b[0m\u001b[0massignee_organization\u001b[0m \u001b[1;33m=\u001b[0m \u001b[0mstd_comp_names\u001b[0m\u001b[1;33m.\u001b[0m\u001b[0massignee_organization\u001b[0m\u001b[1;33m.\u001b[0m\u001b[0mapply\u001b[0m\u001b[1;33m(\u001b[0m\u001b[1;32mlambda\u001b[0m \u001b[0mx\u001b[0m\u001b[1;33m:\u001b[0m \u001b[0mstandardize_punctuation\u001b[0m\u001b[1;33m(\u001b[0m\u001b[0mx\u001b[0m\u001b[1;33m)\u001b[0m\u001b[1;33m)\u001b[0m\u001b[1;33m\u001b[0m\u001b[1;33m\u001b[0m\u001b[0m\n",
      "\u001b[1;31mNameError\u001b[0m: name 'standardize_legal_terms' is not defined"
     ]
    }
   ],
   "source": [
    "std_comp_names = fixed_assignees_companies.copy(deep=True)\n",
    "\n",
    "# Allt í lowercase\n",
    "std_comp_names.assignee_organization = std_comp_names.assignee_organization.str.lower()\n",
    "# staðla legal-terms\n",
    "std_comp_names.assignee_organization = std_comp_names.assignee_organization.apply(lambda x: standardize_legal_terms(x))\n",
    "# sleppa greinamerkjum og staðla whitespaces\n",
    "std_comp_names.assignee_organization = std_comp_names.assignee_organization.apply(lambda x: standardize_punctuation(x))\n",
    "# staðla broddastafi\n",
    "std_comp_names.assignee_organization = std_comp_names.assignee_organization.apply(lambda x: replace_accents(x))\n"
   ]
  },
  {
   "cell_type": "code",
   "execution_count": 21,
   "metadata": {},
   "outputs": [
    {
     "name": "stdout",
     "output_type": "stream",
     "text": [
      "fyrirtækja sem geta sameinað línur eftir stöðlun: 0\n",
      "fjöldi lína sem höfðu alveg eins línu: 0\n"
     ]
    }
   ],
   "source": [
    "print('fyrirtækja sem geta sameinað línur eftir stöðlun:',std_comp_names.assignee_organization.duplicated().sum())\n",
    "print('fjöldi lína sem höfðu alveg eins línu:',std_comp_names.assignee_organization.duplicated(keep=False).sum())"
   ]
  },
  {
   "cell_type": "code",
   "execution_count": null,
   "metadata": {},
   "outputs": [],
   "source": []
  },
  {
   "cell_type": "markdown",
   "metadata": {},
   "source": [
    "### Pörun nafna\n",
    "- Strengir sem eru jafnir eftir stöðlun\n",
    "- Edit distance (oft ekki sniðugt nema kannski fyrir 1-2 edit ef það er spurning um \"hf\" vs \"h f\" eða sambærilegt)\n",
    "    - Vandamál því nxn samanburðir taka um 11gb og allt upp í 14klst að loada. \n",
    "    - Hugsanlega hægt að gera levenshtein distance reiknirit með early stopping ef það tekur >2 edit eða sambærilegt\n",
    "- Samanburður á orðunum sem nafnið samanstendur af\n",
    "- n-gram (NLTK) til að hunsa röðun orða \n",
    "- Jaccard index af orðum í nafni. |sniðmengi|/|sammengi| (Hægt að nota fyrir öll set af bigrams, i.e. öll sett af pörum af orðum í nöfnunum)\n"
   ]
  },
  {
   "cell_type": "code",
   "execution_count": 22,
   "metadata": {},
   "outputs": [],
   "source": [
    "from sklearn.metrics import jaccard_similarity_score"
   ]
  },
  {
   "cell_type": "code",
   "execution_count": 23,
   "metadata": {},
   "outputs": [
    {
     "ename": "NameError",
     "evalue": "name 'RegexpTokenizer' is not defined",
     "output_type": "error",
     "traceback": [
      "\u001b[1;31m---------------------------------------------------------------------------\u001b[0m",
      "\u001b[1;31mNameError\u001b[0m                                 Traceback (most recent call last)",
      "\u001b[1;32m<ipython-input-23-f6c94a09ca45>\u001b[0m in \u001b[0;36m<module>\u001b[1;34m\u001b[0m\n\u001b[0;32m     16\u001b[0m     \u001b[1;32mreturn\u001b[0m \u001b[0mscore\u001b[0m\u001b[1;33m\u001b[0m\u001b[1;33m\u001b[0m\u001b[0m\n\u001b[0;32m     17\u001b[0m \u001b[1;33m\u001b[0m\u001b[0m\n\u001b[1;32m---> 18\u001b[1;33m \u001b[0mJaccard_index\u001b[0m\u001b[1;33m(\u001b[0m\u001b[1;34m'Marel Salmon A/S'\u001b[0m\u001b[1;33m,\u001b[0m\u001b[1;34m'Marel Food System HF.'\u001b[0m\u001b[1;33m,\u001b[0m\u001b[1;36m1\u001b[0m\u001b[1;33m)\u001b[0m\u001b[1;33m\u001b[0m\u001b[1;33m\u001b[0m\u001b[0m\n\u001b[0m\u001b[0;32m     19\u001b[0m \u001b[0mJaccard_index\u001b[0m\u001b[1;33m(\u001b[0m\u001b[1;34m'Marel Salmon A/S'\u001b[0m\u001b[1;33m,\u001b[0m\u001b[1;34m'Salmon Food  HF.'\u001b[0m\u001b[1;33m,\u001b[0m\u001b[1;36m1\u001b[0m\u001b[1;33m)\u001b[0m\u001b[1;33m\u001b[0m\u001b[1;33m\u001b[0m\u001b[0m\n",
      "\u001b[1;32m<ipython-input-23-f6c94a09ca45>\u001b[0m in \u001b[0;36mJaccard_index\u001b[1;34m(string_1, string_2, n)\u001b[0m\n\u001b[0;32m      1\u001b[0m \u001b[1;32mfrom\u001b[0m \u001b[0mnltk\u001b[0m \u001b[1;32mimport\u001b[0m \u001b[0mngrams\u001b[0m\u001b[1;33m\u001b[0m\u001b[1;33m\u001b[0m\u001b[0m\n\u001b[0;32m      2\u001b[0m \u001b[1;32mdef\u001b[0m \u001b[0mJaccard_index\u001b[0m\u001b[1;33m(\u001b[0m\u001b[0mstring_1\u001b[0m\u001b[1;33m,\u001b[0m\u001b[0mstring_2\u001b[0m\u001b[1;33m,\u001b[0m\u001b[0mn\u001b[0m\u001b[1;33m=\u001b[0m\u001b[1;36m2\u001b[0m\u001b[1;33m)\u001b[0m\u001b[1;33m:\u001b[0m\u001b[1;33m\u001b[0m\u001b[1;33m\u001b[0m\u001b[0m\n\u001b[1;32m----> 3\u001b[1;33m     \u001b[0mwords_1\u001b[0m \u001b[1;33m=\u001b[0m \u001b[0mRegexpTokenizer\u001b[0m\u001b[1;33m(\u001b[0m\u001b[1;34mr'\\w+'\u001b[0m\u001b[1;33m)\u001b[0m\u001b[1;33m.\u001b[0m\u001b[0mtokenize\u001b[0m\u001b[1;33m(\u001b[0m\u001b[0mstring_1\u001b[0m\u001b[1;33m)\u001b[0m\u001b[1;33m\u001b[0m\u001b[1;33m\u001b[0m\u001b[0m\n\u001b[0m\u001b[0;32m      4\u001b[0m     \u001b[0mwords_2\u001b[0m \u001b[1;33m=\u001b[0m \u001b[0mRegexpTokenizer\u001b[0m\u001b[1;33m(\u001b[0m\u001b[1;34mr'\\w+'\u001b[0m\u001b[1;33m)\u001b[0m\u001b[1;33m.\u001b[0m\u001b[0mtokenize\u001b[0m\u001b[1;33m(\u001b[0m\u001b[0mstring_2\u001b[0m\u001b[1;33m)\u001b[0m\u001b[1;33m\u001b[0m\u001b[1;33m\u001b[0m\u001b[0m\n\u001b[0;32m      5\u001b[0m     \u001b[0mngram_1\u001b[0m \u001b[1;33m=\u001b[0m \u001b[0mngrams\u001b[0m\u001b[1;33m(\u001b[0m\u001b[0mwords_1\u001b[0m\u001b[1;33m,\u001b[0m\u001b[0mn\u001b[0m\u001b[1;33m)\u001b[0m\u001b[1;33m\u001b[0m\u001b[1;33m\u001b[0m\u001b[0m\n",
      "\u001b[1;31mNameError\u001b[0m: name 'RegexpTokenizer' is not defined"
     ]
    }
   ],
   "source": [
    "from nltk import ngrams\n",
    "def Jaccard_index(string_1,string_2,n=2):\n",
    "    words_1 = RegexpTokenizer(r'\\w+').tokenize(string_1)\n",
    "    words_2 = RegexpTokenizer(r'\\w+').tokenize(string_2)\n",
    "    ngram_1 = ngrams(words_1,n)\n",
    "    ngram_2 = ngrams(words_2,n)\n",
    "    intersection = list(set([x for x in ngram_1]) & set([x for x in ngram_2]))\n",
    "    ngram_1 = ngrams(words_1,n)\n",
    "    ngram_2 = ngrams(words_2,n)\n",
    "    union = list(set([x for x in ngram_1]) | set([x for x in ngram_2]))\n",
    "    print(words_1)\n",
    "    print(words_2)\n",
    "    print('intersection:',intersection)\n",
    "    print('union:',union)\n",
    "    score = len(intersection)/len(union)\n",
    "    return score\n",
    "\n",
    "Jaccard_index('Marel Salmon A/S','Marel Food System HF.',1)\n",
    "Jaccard_index('Marel Salmon A/S','Salmon Food  HF.',1)"
   ]
  },
  {
   "cell_type": "code",
   "execution_count": null,
   "metadata": {},
   "outputs": [],
   "source": [
    "\n"
   ]
  },
  {
   "cell_type": "code",
   "execution_count": null,
   "metadata": {},
   "outputs": [],
   "source": [
    "from nltk import edit_distance\n",
    "from itertools import product\n",
    "\n",
    "def edit_distance_check(strings):\n",
    "    n_strings = len(strings)\n",
    "    distances = []\n",
    "    for word1, word2 in product(strings, strings):\n",
    "        tmp_dist = edit_distance(word1,word2)\n",
    "        distances.append(tmp_dist)\n",
    "    \n",
    "    distance_matrix = pd.DataFrame(np.reshape(np.array(distances),(n_strings,n_strings)))\n",
    "    distance_matrix.index = strings\n",
    "    distance_matrix.columns = strings\n",
    "    return distance_matrix\n",
    "\n",
    "sizes = [2**x for x in np.arange(0,7)]\n",
    "times = []\n",
    "\n",
    "for size in sizes:\n",
    "    start = time.time()\n",
    "    edit_distance_check(std_comp_names.assignee_organization[:size])\n",
    "    times.append(time.time()-start)\n",
    "    \n",
    "    "
   ]
  },
  {
   "cell_type": "code",
   "execution_count": null,
   "metadata": {},
   "outputs": [],
   "source": []
  },
  {
   "cell_type": "code",
   "execution_count": null,
   "metadata": {},
   "outputs": [],
   "source": []
  },
  {
   "cell_type": "code",
   "execution_count": null,
   "metadata": {},
   "outputs": [],
   "source": []
  },
  {
   "cell_type": "code",
   "execution_count": null,
   "metadata": {},
   "outputs": [],
   "source": []
  },
  {
   "cell_type": "code",
   "execution_count": null,
   "metadata": {},
   "outputs": [],
   "source": []
  },
  {
   "cell_type": "code",
   "execution_count": null,
   "metadata": {},
   "outputs": [],
   "source": [
    "print('fjöldi fyrirtækja sem sameinast eftir stöðlun:',std_comp_names.assignee_organization.duplicated(keep=False).sum())\n",
    "print('fjöldi fyrirtækja sem sameinast eftir stöðlun:',std_comp_names.assignee_organization.duplicated().sum())\n",
    "\n",
    "# print('fjöldi fyrirtækja sem sameinast með edit distance:',)"
   ]
  },
  {
   "cell_type": "code",
   "execution_count": null,
   "metadata": {},
   "outputs": [],
   "source": [
    "len(std_comp_names)"
   ]
  },
  {
   "cell_type": "code",
   "execution_count": 24,
   "metadata": {},
   "outputs": [
    {
     "name": "stderr",
     "output_type": "stream",
     "text": [
      "[nltk_data] Downloading package wordnet to\n",
      "[nltk_data]     C:\\Users\\Sverrir\\AppData\\Roaming\\nltk_data...\n",
      "[nltk_data]   Package wordnet is already up-to-date!\n"
     ]
    },
    {
     "data": {
      "text/plain": [
       "True"
      ]
     },
     "execution_count": 24,
     "metadata": {},
     "output_type": "execute_result"
    }
   ],
   "source": [
    "import nltk\n",
    "nltk.download('wordnet')"
   ]
  },
  {
   "cell_type": "code",
   "execution_count": 25,
   "metadata": {},
   "outputs": [],
   "source": [
    "from difflib import SequenceMatcher\n",
    "\n",
    "def similar(a, b):\n",
    "    a_lowcase = a.lower()\n",
    "    b_lowcase = b.lower()\n",
    "    return SequenceMatcher(None, a_lowcase, b_lowcase).ratio()\n"
   ]
  },
  {
   "cell_type": "code",
   "execution_count": 26,
   "metadata": {},
   "outputs": [],
   "source": [
    "from nltk.corpus import wordnet\n",
    "from itertools import product\n",
    "sims = []\n",
    "nameSubList = fixed_assignees_companies.assignee_organization[:100]\n",
    "for word1, word2 in product(nameSubList, nameSubList):\n",
    "    syns1 = wordnet.synsets(word1)\n",
    "    syns2 = wordnet.synsets(word2)\n",
    "    for sense1, sense2 in product(syns1, syns2):\n",
    "        d = wordnet.wup_similarity(sense1, sense2)\n",
    "        sims.append((d, syns1, syns2))\n"
   ]
  },
  {
   "cell_type": "code",
   "execution_count": 27,
   "metadata": {},
   "outputs": [
    {
     "data": {
      "text/plain": [
       "{'_wordnet_corpus_reader': <WordNetCorpusReader in 'C:\\\\Users\\\\Sverrir\\\\AppData\\\\Roaming\\\\nltk_data\\\\corpora\\\\wordnet'>,\n",
       " '_all_hypernyms': None}"
      ]
     },
     "execution_count": 27,
     "metadata": {},
     "output_type": "execute_result"
    }
   ],
   "source": [
    "wordnet.synsets('apple')[0].__dict__"
   ]
  },
  {
   "cell_type": "code",
   "execution_count": 28,
   "metadata": {},
   "outputs": [],
   "source": [
    "from difflib import SequenceMatcher\n",
    "\n",
    "def similar(a, b):\n",
    "    a_lowcase = a.lower()\n",
    "    b_lowcase = b.lower()\n",
    "    return SequenceMatcher(None, a_lowcase, b_lowcase).ratio()\n"
   ]
  },
  {
   "cell_type": "code",
   "execution_count": 29,
   "metadata": {},
   "outputs": [
    {
     "ename": "ValueError",
     "evalue": "max() arg is an empty sequence",
     "output_type": "error",
     "traceback": [
      "\u001b[1;31m---------------------------------------------------------------------------\u001b[0m",
      "\u001b[1;31mValueError\u001b[0m                                Traceback (most recent call last)",
      "\u001b[1;32m<ipython-input-29-1ed4849caa32>\u001b[0m in \u001b[0;36m<module>\u001b[1;34m\u001b[0m\n\u001b[0;32m      1\u001b[0m \u001b[0mallsyns1\u001b[0m \u001b[1;33m=\u001b[0m \u001b[0mset\u001b[0m\u001b[1;33m(\u001b[0m\u001b[0mss\u001b[0m \u001b[1;32mfor\u001b[0m \u001b[0mword\u001b[0m \u001b[1;32min\u001b[0m \u001b[0mnameSubList\u001b[0m \u001b[1;32mfor\u001b[0m \u001b[0mss\u001b[0m \u001b[1;32min\u001b[0m \u001b[0mwordnet\u001b[0m\u001b[1;33m.\u001b[0m\u001b[0msynsets\u001b[0m\u001b[1;33m(\u001b[0m\u001b[0mword\u001b[0m\u001b[1;33m)\u001b[0m\u001b[1;33m)\u001b[0m\u001b[1;33m\u001b[0m\u001b[1;33m\u001b[0m\u001b[0m\n\u001b[0;32m      2\u001b[0m \u001b[0mallsyns2\u001b[0m \u001b[1;33m=\u001b[0m \u001b[0mset\u001b[0m\u001b[1;33m(\u001b[0m\u001b[0mss\u001b[0m \u001b[1;32mfor\u001b[0m \u001b[0mword\u001b[0m \u001b[1;32min\u001b[0m \u001b[0mnameSubList\u001b[0m \u001b[1;32mfor\u001b[0m \u001b[0mss\u001b[0m \u001b[1;32min\u001b[0m \u001b[0mwordnet\u001b[0m\u001b[1;33m.\u001b[0m\u001b[0msynsets\u001b[0m\u001b[1;33m(\u001b[0m\u001b[0mword\u001b[0m\u001b[1;33m)\u001b[0m\u001b[1;33m)\u001b[0m\u001b[1;33m\u001b[0m\u001b[1;33m\u001b[0m\u001b[0m\n\u001b[1;32m----> 3\u001b[1;33m \u001b[0mbest\u001b[0m \u001b[1;33m=\u001b[0m \u001b[0mmax\u001b[0m\u001b[1;33m(\u001b[0m\u001b[1;33m(\u001b[0m\u001b[0mwordnet\u001b[0m\u001b[1;33m.\u001b[0m\u001b[0mwup_similarity\u001b[0m\u001b[1;33m(\u001b[0m\u001b[0ms1\u001b[0m\u001b[1;33m,\u001b[0m \u001b[0ms2\u001b[0m\u001b[1;33m)\u001b[0m \u001b[1;32mor\u001b[0m \u001b[1;36m0\u001b[0m\u001b[1;33m,\u001b[0m \u001b[0ms1\u001b[0m\u001b[1;33m,\u001b[0m \u001b[0ms2\u001b[0m\u001b[1;33m)\u001b[0m \u001b[1;32mfor\u001b[0m \u001b[0ms1\u001b[0m\u001b[1;33m,\u001b[0m \u001b[0ms2\u001b[0m \u001b[1;32min\u001b[0m \u001b[0mproduct\u001b[0m\u001b[1;33m(\u001b[0m\u001b[0mallsyns1\u001b[0m\u001b[1;33m,\u001b[0m \u001b[0mallsyns2\u001b[0m\u001b[1;33m)\u001b[0m\u001b[1;33m)\u001b[0m\u001b[1;33m\u001b[0m\u001b[1;33m\u001b[0m\u001b[0m\n\u001b[0m\u001b[0;32m      4\u001b[0m \u001b[0mprint\u001b[0m\u001b[1;33m(\u001b[0m\u001b[0mbest\u001b[0m\u001b[1;33m)\u001b[0m\u001b[1;33m\u001b[0m\u001b[1;33m\u001b[0m\u001b[0m\n",
      "\u001b[1;31mValueError\u001b[0m: max() arg is an empty sequence"
     ]
    }
   ],
   "source": [
    "allsyns1 = set(ss for word in nameSubList for ss in wordnet.synsets(word))\n",
    "allsyns2 = set(ss for word in nameSubList for ss in wordnet.synsets(word))\n",
    "best = max((wordnet.wup_similarity(s1, s2) or 0, s1, s2) for s1, s2 in product(allsyns1, allsyns2))\n",
    "print(best)"
   ]
  },
  {
   "cell_type": "code",
   "execution_count": null,
   "metadata": {},
   "outputs": [],
   "source": []
  },
  {
   "cell_type": "code",
   "execution_count": null,
   "metadata": {},
   "outputs": [],
   "source": []
  },
  {
   "cell_type": "code",
   "execution_count": null,
   "metadata": {},
   "outputs": [],
   "source": []
  },
  {
   "cell_type": "code",
   "execution_count": null,
   "metadata": {},
   "outputs": [],
   "source": []
  }
 ],
 "metadata": {
  "kernelspec": {
   "display_name": "Python 3",
   "language": "python",
   "name": "python3"
  },
  "language_info": {
   "codemirror_mode": {
    "name": "ipython",
    "version": 3
   },
   "file_extension": ".py",
   "mimetype": "text/x-python",
   "name": "python",
   "nbconvert_exporter": "python",
   "pygments_lexer": "ipython3",
   "version": "3.7.1"
  }
 },
 "nbformat": 4,
 "nbformat_minor": 2
}
